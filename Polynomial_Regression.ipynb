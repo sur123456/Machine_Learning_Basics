{
  "nbformat": 4,
  "nbformat_minor": 0,
  "metadata": {
    "colab": {
      "name": "Polynomial_Regression.ipynb",
      "provenance": []
    },
    "kernelspec": {
      "name": "python3",
      "display_name": "Python 3"
    }
  },
  "cells": [
    {
      "cell_type": "markdown",
      "metadata": {
        "id": "3mhMeSx6b7-8",
        "colab_type": "text"
      },
      "source": [
        " **Importing the Libraries**"
      ]
    },
    {
      "cell_type": "code",
      "metadata": {
        "id": "JwOQ_TlTCmj7",
        "colab_type": "code",
        "colab": {}
      },
      "source": [
        "import pandas as pd\n",
        "import matplotlib.pyplot as plt\n",
        "import numpy as np"
      ],
      "execution_count": 30,
      "outputs": []
    },
    {
      "cell_type": "markdown",
      "metadata": {
        "id": "GRpsVS5ecIqq",
        "colab_type": "text"
      },
      "source": [
        "**Importing the Dataset**"
      ]
    },
    {
      "cell_type": "code",
      "metadata": {
        "id": "M4GyJubCCvrA",
        "colab_type": "code",
        "colab": {}
      },
      "source": [
        "dataset = pd.read_csv(\"Dataset.csv\" )\n",
        "x = dataset.iloc[: , 1:-1].values\n",
        "y = dataset.iloc[:, -1].values\n"
      ],
      "execution_count": 31,
      "outputs": []
    },
    {
      "cell_type": "markdown",
      "metadata": {
        "id": "tnu_7lpFcMvV",
        "colab_type": "text"
      },
      "source": [
        "**Training the Linear Regression Model on the entire dataset**"
      ]
    },
    {
      "cell_type": "code",
      "metadata": {
        "id": "Eq4hdha_I2Um",
        "colab_type": "code",
        "colab": {
          "base_uri": "https://localhost:8080/",
          "height": 34
        },
        "outputId": "456b6265-a4ce-4642-feec-bbc820deeb19"
      },
      "source": [
        "from sklearn.linear_model import LinearRegression\n",
        "\n",
        "linear_regressor = LinearRegression()\n",
        "linear_regressor.fit(x,y)"
      ],
      "execution_count": 32,
      "outputs": [
        {
          "output_type": "execute_result",
          "data": {
            "text/plain": [
              "LinearRegression(copy_X=True, fit_intercept=True, n_jobs=None, normalize=False)"
            ]
          },
          "metadata": {
            "tags": []
          },
          "execution_count": 32
        }
      ]
    },
    {
      "cell_type": "markdown",
      "metadata": {
        "id": "8BFdlTACcTHB",
        "colab_type": "text"
      },
      "source": [
        "**Training Polynomial Regression on the entire dataset**"
      ]
    },
    {
      "cell_type": "code",
      "metadata": {
        "id": "SivuaQgGSug9",
        "colab_type": "code",
        "colab": {
          "base_uri": "https://localhost:8080/",
          "height": 34
        },
        "outputId": "dda85ec3-3632-499f-d1ef-593a139260be"
      },
      "source": [
        "from sklearn.preprocessing import PolynomialFeatures\n",
        "poly_regressor = PolynomialFeatures(degree = 4)\n",
        "X_poly = poly_regressor.fit_transform(x)\n",
        "linear_regressor_2 = LinearRegression()\n",
        "linear_regressor_2.fit(X_poly, y)"
      ],
      "execution_count": 37,
      "outputs": [
        {
          "output_type": "execute_result",
          "data": {
            "text/plain": [
              "LinearRegression(copy_X=True, fit_intercept=True, n_jobs=None, normalize=False)"
            ]
          },
          "metadata": {
            "tags": []
          },
          "execution_count": 37
        }
      ]
    },
    {
      "cell_type": "markdown",
      "metadata": {
        "id": "ViiEk9PicaPt",
        "colab_type": "text"
      },
      "source": [
        "**Visualising the Linear regression results**"
      ]
    },
    {
      "cell_type": "code",
      "metadata": {
        "id": "VTk5KMhCVPcy",
        "colab_type": "code",
        "colab": {
          "base_uri": "https://localhost:8080/",
          "height": 295
        },
        "outputId": "a61e1d5e-2235-4bb3-f9ef-8512a9157c59"
      },
      "source": [
        "plt.scatter(x, y, color = 'red')\n",
        "plt.plot(x, linear_regressor.predict(x), color = 'blue')\n",
        "plt.title('Truth or Bluff(Linear regression)')\n",
        "plt.xlabel('Position Level')\n",
        "plt.ylabel('Salary')\n",
        "plt.show()"
      ],
      "execution_count": 38,
      "outputs": [
        {
          "output_type": "display_data",
          "data": {
            "image/png": "[encoded data removed]",
            "text/plain": [
              "<Figure size 432x288 with 1 Axes>"
            ]
          },
          "metadata": {
            "tags": [],
            "needs_background": "light"
          }
        }
      ]
    },
    {
      "cell_type": "markdown",
      "metadata": {
        "id": "UP-PIawhcfy3",
        "colab_type": "text"
      },
      "source": [
        "**Visualising the Polynomial Regression Results**"
      ]
    },
    {
      "cell_type": "code",
      "metadata": {
        "id": "NuM6XApLXs20",
        "colab_type": "code",
        "colab": {
          "base_uri": "https://localhost:8080/",
          "height": 295
        },
        "outputId": "b296ca87-e54b-41a0-e071-d9b750ca8db3"
      },
      "source": [
        "plt.scatter(x, y, color = 'red')\n",
        "plt.plot(x, linear_regressor_2.predict(poly_regressor.fit_transform(x)), color = 'blue')\n",
        "plt.title('Truth or Bluff(Linear regression)')\n",
        "plt.xlabel('Position Level')\n",
        "plt.ylabel('Salary')\n",
        "plt.show()"
      ],
      "execution_count": 39,
      "outputs": [
        {
          "output_type": "display_data",
          "data": {
            "image/png": "[encoded data removed]",
            "text/plain": [
              "<Figure size 432x288 with 1 Axes>"
            ]
          },
          "metadata": {
            "tags": [],
            "needs_background": "light"
          }
        }
      ]
    },
    {
      "cell_type": "markdown",
      "metadata": {
        "id": "42514moNaJyB",
        "colab_type": "text"
      },
      "source": [
        "**Predicting new result using Linear Regression**"
      ]
    },
    {
      "cell_type": "code",
      "metadata": {
        "id": "F7lJigkcaPVu",
        "colab_type": "code",
        "colab": {
          "base_uri": "https://localhost:8080/",
          "height": 34
        },
        "outputId": "d265e8c8-5a41-4850-b724-ad6a524c5e19"
      },
      "source": [
        "linear_regressor.predict([[6.5]])"
      ],
      "execution_count": 40,
      "outputs": [
        {
          "output_type": "execute_result",
          "data": {
            "text/plain": [
              "array([330378.78787879])"
            ]
          },
          "metadata": {
            "tags": []
          },
          "execution_count": 40
        }
      ]
    },
    {
      "cell_type": "markdown",
      "metadata": {
        "id": "0qF1EChiakHC",
        "colab_type": "text"
      },
      "source": [
        "**Predicting new results using Polynomial regression**\n"
      ]
    },
    {
      "cell_type": "code",
      "metadata": {
        "id": "3jxMyTskabhE",
        "colab_type": "code",
        "colab": {
          "base_uri": "https://localhost:8080/",
          "height": 34
        },
        "outputId": "1174b408-9d5d-4887-afc5-8c89ca16664c"
      },
      "source": [
        "linear_regressor_2.predict(poly_regressor.fit_transform([[6.5]]))"
      ],
      "execution_count": 45,
      "outputs": [
        {
          "output_type": "execute_result",
          "data": {
            "text/plain": [
              "array([158862.45265155])"
            ]
          },
          "metadata": {
            "tags": []
          },
          "execution_count": 45
        }
      ]
    },
    {
      "cell_type": "markdown",
      "metadata": {
        "id": "BY45dTXNaiiE",
        "colab_type": "text"
      },
      "source": [
        ""
      ]
    }
  ]
}